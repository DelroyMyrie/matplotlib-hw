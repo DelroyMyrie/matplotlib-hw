{
 "cells": [
  {
   "cell_type": "code",
   "execution_count": 12,
   "metadata": {},
   "outputs": [],
   "source": [
    "%matplotlib inline\n",
    "# Dependencies and Setup\n",
    "import matplotlib.pyplot as plt\n",
    "import pandas as pd\n",
    "import numpy as np\n",
    "\n",
    "# File to Load (Remember to change these)\n",
    "city_data_to_load = \"data/city_data.csv\"\n",
    "ride_data_to_load = \"data/ride_data.csv\""
   ]
  },
  {
   "cell_type": "code",
   "execution_count": 13,
   "metadata": {
    "scrolled": true
   },
   "outputs": [
    {
     "data": {
      "text/html": [
       "<div>\n",
       "<style scoped>\n",
       "    .dataframe tbody tr th:only-of-type {\n",
       "        vertical-align: middle;\n",
       "    }\n",
       "\n",
       "    .dataframe tbody tr th {\n",
       "        vertical-align: top;\n",
       "    }\n",
       "\n",
       "    .dataframe thead th {\n",
       "        text-align: right;\n",
       "    }\n",
       "</style>\n",
       "<table border=\"1\" class=\"dataframe\">\n",
       "  <thead>\n",
       "    <tr style=\"text-align: right;\">\n",
       "      <th></th>\n",
       "      <th>city</th>\n",
       "      <th>driver_count</th>\n",
       "      <th>type</th>\n",
       "      <th>date</th>\n",
       "      <th>fare</th>\n",
       "      <th>ride_id</th>\n",
       "    </tr>\n",
       "  </thead>\n",
       "  <tbody>\n",
       "    <tr>\n",
       "      <th>0</th>\n",
       "      <td>Richardfort</td>\n",
       "      <td>38</td>\n",
       "      <td>Urban</td>\n",
       "      <td>2018-02-24 08:40:38</td>\n",
       "      <td>13.93</td>\n",
       "      <td>5628545007794</td>\n",
       "    </tr>\n",
       "    <tr>\n",
       "      <th>1</th>\n",
       "      <td>Richardfort</td>\n",
       "      <td>38</td>\n",
       "      <td>Urban</td>\n",
       "      <td>2018-02-13 12:46:07</td>\n",
       "      <td>14.00</td>\n",
       "      <td>910050116494</td>\n",
       "    </tr>\n",
       "    <tr>\n",
       "      <th>2</th>\n",
       "      <td>Richardfort</td>\n",
       "      <td>38</td>\n",
       "      <td>Urban</td>\n",
       "      <td>2018-02-16 13:52:19</td>\n",
       "      <td>17.92</td>\n",
       "      <td>820639054416</td>\n",
       "    </tr>\n",
       "    <tr>\n",
       "      <th>3</th>\n",
       "      <td>Richardfort</td>\n",
       "      <td>38</td>\n",
       "      <td>Urban</td>\n",
       "      <td>2018-02-01 20:18:28</td>\n",
       "      <td>10.26</td>\n",
       "      <td>9554935945413</td>\n",
       "    </tr>\n",
       "    <tr>\n",
       "      <th>4</th>\n",
       "      <td>Richardfort</td>\n",
       "      <td>38</td>\n",
       "      <td>Urban</td>\n",
       "      <td>2018-04-17 02:26:37</td>\n",
       "      <td>23.00</td>\n",
       "      <td>720020655850</td>\n",
       "    </tr>\n",
       "  </tbody>\n",
       "</table>\n",
       "</div>"
      ],
      "text/plain": [
       "          city  driver_count   type                 date   fare        ride_id\n",
       "0  Richardfort            38  Urban  2018-02-24 08:40:38  13.93  5628545007794\n",
       "1  Richardfort            38  Urban  2018-02-13 12:46:07  14.00   910050116494\n",
       "2  Richardfort            38  Urban  2018-02-16 13:52:19  17.92   820639054416\n",
       "3  Richardfort            38  Urban  2018-02-01 20:18:28  10.26  9554935945413\n",
       "4  Richardfort            38  Urban  2018-04-17 02:26:37  23.00   720020655850"
      ]
     },
     "execution_count": 13,
     "metadata": {},
     "output_type": "execute_result"
    }
   ],
   "source": [
    "# Read the City and Ride Data\n",
    "citydata_df = pd.read_csv(city_data_to_load)\n",
    "citydata_df.head()\n",
    "\n",
    "ridedata_df = pd.read_csv(ride_data_to_load)\n",
    "ridedata_df.head()\n",
    "\n",
    "# Combine the data into a single dataset\n",
    "mergedata_df = pd.merge(citydata_df, ridedata_df)\n",
    "\n",
    "# Display the data table for preview\n",
    "mergedata_df.head()"
   ]
  },
  {
   "cell_type": "markdown",
   "metadata": {},
   "source": [
    "## Bubble Plot of Ride Sharing Data"
   ]
  },
  {
   "cell_type": "code",
   "execution_count": 39,
   "metadata": {},
   "outputs": [
    {
     "ename": "SyntaxError",
     "evalue": "invalid syntax (<ipython-input-39-c6ec97ad4549>, line 92)",
     "output_type": "error",
     "traceback": [
      "\u001b[0;36m  File \u001b[0;32m\"<ipython-input-39-c6ec97ad4549>\"\u001b[0;36m, line \u001b[0;32m92\u001b[0m\n\u001b[0;31m    plt.figtext(.50, .5 \"Note:\\nCircle size correlates with driver count per city.\", fontsize=12)\u001b[0m\n\u001b[0m                                                                                  ^\u001b[0m\n\u001b[0;31mSyntaxError\u001b[0m\u001b[0;31m:\u001b[0m invalid syntax\n"
     ]
    }
   ],
   "source": [
    "# Bubble Scatter Plot Calculations\n",
    "groupdata = mergedata_df\n",
    "avgfare = groupdata[\"fare\"].mean()\n",
    "totalrides = groupdata[\"ride_id\"].count()\n",
    "drivercount = groupdata[\"driver_count\"].sum()\n",
    "totaldriver = (drivercount // totalrides)\n",
    "\n",
    "typedata = citydata_df.groupby(\"type\")\n",
    "\n",
    "scatterdata = pd.DataFrame({\"AverageFare\": [avgfare],\n",
    "                        \"TotalRides\": [totalrides],\n",
    "                        \"TotalDrivers\": [totaldriver]})\n",
    "\n",
    "scatterdata[\"AverageFare\"] = scatterdata[\"AverageFare\"].round(2)\n",
    "\n",
    "# Type_df\n",
    "urbandata = mergedata_df.loc[mergedata_df[\"type\"] == \"Urban\", :]\n",
    "suburbandata = mergedata_df.loc[mergedata_df[\"type\"] == \"Suburban\", :]\n",
    "ruraldata = mergedata_df.loc[mergedata_df[\"type\"] == \"Rural\"]\n",
    "\n",
    "# CityName_df\n",
    "groupurban = urbandata.groupby(\"city\")\n",
    "groupsub = suburbandata.groupby(\"city\")\n",
    "grouprural = ruraldata.groupby(\"city\")\n",
    "\n",
    "# Urban Data Analysis\n",
    "urbanfare = groupurban[\"fare\"].mean()\n",
    "urbanrides = groupurban[\"ride_id\"].count()\n",
    "urbancount = groupurban[\"driver_count\"].sum()\n",
    "urbandrivers = (urbancount // urbanrides)\n",
    "\n",
    "# Suburban Data Analysis\n",
    "subfare = groupsub[\"fare\"].mean()\n",
    "subrides = groupsub[\"ride_id\"].count()\n",
    "subcount = groupsub[\"driver_count\"].sum()\n",
    "subdrivers = (subcount // subrides)\n",
    "\n",
    "# Rural Data Analysis\n",
    "ruralfare = grouprural[\"fare\"].mean()\n",
    "ruralrides = grouprural[\"ride_id\"].count()\n",
    "ruralcount = grouprural[\"driver_count\"].sum()\n",
    "ruraldrivers = (ruralcount // ruralrides)\n",
    "\n",
    "\n",
    "# Plot_df\n",
    "urbdat = pd.DataFrame({\"AverageFare\": urbanfare,\n",
    "                       \"TotalRides\": urbanrides,\n",
    "                       \"TotalDrivers\": urbandrivers})\n",
    "urbdat[\"AverageFare\"] = urbdat[\"AverageFare\"].round(2)\n",
    "\n",
    "subdat = pd.DataFrame({\"AverageFare\": subfare,\n",
    "                     \"TotalRides\": subrides,\n",
    "                     \"TotalDrivers\": subdrivers})\n",
    "subdat[\"AverageFare\"] = subdat[\"AverageFare\"].round(2)\n",
    "\n",
    "rurdat = pd.DataFrame({\"AverageFare\": ruralfare,\n",
    "                       \"TotalRides\": ruralrides,\n",
    "                       \"TotalDrivers\": ruraldrivers})\n",
    "rurdat[\"AverageFare\"] = rurdat[\"AverageFare\"].round(2)\n",
    "\n",
    "# Incorporate the other graph properties\n",
    "ChangeBubbleSize = 10\n",
    "CBS = ChangeBubbleSize\n",
    "plt.figure(figsize=(8,6))\n",
    "\n",
    "# Urban Scatter Plot Properties\n",
    "bubbleurb = plt.scatter(urbdat.TotalRides, urbdat.AverageFare, c=\"LightCoral\", label = \"Urban\", \n",
    "                    s=(urbdat.TotalDrivers * CBS), alpha = 0.7, edgecolor = \"black\", linewidths = .6)\n",
    "\n",
    "# Suburban Scatter Plot Properties\n",
    "bubblesub = plt.scatter(subdat.TotalRides, subdat.AverageFare, c=\"LightSkyBlue\", label = \"Suburban\", \n",
    "                    s=(subdat.TotalDrivers * CBS), alpha = 0.7, edgecolor = \"black\", linewidths = .9)\n",
    "\n",
    "# Rural Scatter Plot Properties\n",
    "bubblerur = plt.scatter(rurdat.TotalRides, rurdat.AverageFare, c=\"gold\", label = \"Rural\", \n",
    "                    s=(rurdat.TotalDrivers * CBS), alpha = 0.6, edgecolor = \"black\", linewidths = 1)\n",
    "\n",
    "# Incorporate the other graph properties\n",
    "plt.title(\"Pyber Ride Sharing Data (2016)\")\n",
    "plt.xlabel(\"Total Number of Rides (Per City)\")\n",
    "plt.ylabel(\"Average Fare ($)\")\n",
    "plt.xlim((0,40))\n",
    "plt.grid(True)\n",
    "\n",
    "# Create a legend\n",
    "lgnd = plt.legend(fontsize=\"small\", mode=\"Expanded\", numpoints=1, scatterpoints=1, loc=\"best\", title=\"City Types\", labelspacing=0.5)\n",
    "lgnd.legendHandles[0]._sizes = [30]\n",
    "lgnd.legendHandles[1]._sizes = [30]\n",
    "lgnd.legendHandles[2]._sizes = [30]\n",
    "\n",
    "# Incorporate a text label regarding circle size\n",
    "plt.figtext(.50, .5 \"Note:\\nCircle size correlates with driver count per city.\", fontsize=12)\n",
    "\n",
    "# Save Figure\n",
    "plt.savefig(\"analysis/Fig1.png\")"
   ]
  },
  {
   "cell_type": "code",
   "execution_count": null,
   "metadata": {},
   "outputs": [],
   "source": [
    "# Show plot\n",
    "plt.grid()\n",
    "plt.show()"
   ]
  },
  {
   "cell_type": "markdown",
   "metadata": {},
   "source": [
    "## Total Fares by City Type"
   ]
  },
  {
   "cell_type": "code",
   "execution_count": 29,
   "metadata": {},
   "outputs": [
    {
     "data": {
      "image/png": "[encoded data removed]",
      "text/plain": [
       "<Figure size 432x288 with 1 Axes>"
      ]
     },
     "metadata": {},
     "output_type": "display_data"
    }
   ],
   "source": [
    "# create dataframe\n",
    "fareByCity_df = pd.DataFrame(mergedata_df.groupby(by='type')['fare'].sum())\n",
    "\n",
    "# create labels, wedge slices, colors, explode\n",
    "labels = ['Rural', 'Suburban', 'Urban']\n",
    "wedge_sizes = [fareByCity_df['fare'][0]/fareByCity_df['fare'].sum(),\\\n",
    "               fareByCity_df['fare'][1]/fareByCity_df['fare'].sum(),\\\n",
    "               fareByCity_df['fare'][2]/fareByCity_df['fare'].sum()]\n",
    "colors = ['gold', 'lightcoral', 'lightskyblue']\n",
    "explode = (0, 0.25, .1)\n",
    "\n",
    "# create and display pie chart\n",
    "fig1, ax1 = plt.subplots()\n",
    "ax1.pie(wedge_sizes, labels=labels, autopct='%1.2f%%', startangle=90,\\\n",
    "        colors=colors, explode=explode, shadow=True)\n",
    "ax1.axis('off')\n",
    "plt.legend(loc='lower left')\n",
    "plt.title(\"Total Fares by City Type\",{'fontname':'Arial','fontsize':14})\n",
    "plt.show()"
   ]
  },
  {
   "cell_type": "code",
   "execution_count": null,
   "metadata": {},
   "outputs": [],
   "source": [
    "# Show Figure\n",
    "plt.show()"
   ]
  },
  {
   "cell_type": "markdown",
   "metadata": {},
   "source": [
    "# Total Drivers by City Type"
   ]
  },
  {
   "cell_type": "code",
   "execution_count": 28,
   "metadata": {},
   "outputs": [
    {
     "data": {
      "image/png": "[encoded data removed]",
      "text/plain": [
       "<Figure size 432x288 with 1 Axes>"
      ]
     },
     "metadata": {},
     "output_type": "display_data"
    }
   ],
   "source": [
    "# create dataframe\n",
    "ridesByCity_df = pd.DataFrame(mergedata_df.groupby(by='type')['ride_id'].count())\n",
    "\n",
    "# create labels, wedge slices, colors, explode\n",
    "labels = ['Rural', 'Suburban', 'Urban']\n",
    "wedge_sizes = [ridesByCity_df['ride_id']['Rural']/ridesByCity_df['ride_id'].sum(),\\\n",
    "               ridesByCity_df['ride_id']['Suburban']/ridesByCity_df['ride_id'].sum(),\\\n",
    "               ridesByCity_df['ride_id']['Urban']/ridesByCity_df['ride_id'].sum()]\n",
    "explode = (0, 0.25, .1)\n",
    "\n",
    "# create and display pie chart\n",
    "fig1, ax1 = plt.subplots()\n",
    "ax1.pie(wedge_sizes, labels=labels, autopct='%1.2f%%',\\\n",
    "        startangle=90, colors=colors, explode=explode, shadow=True)\n",
    "ax1.axis('off')\n",
    "plt.legend(loc='lower left')\n",
    "plt.title(\"Total Rides by City Type\",{'fontname':'Arial','fontsize':14})\n",
    "plt.show()"
   ]
  },
  {
   "cell_type": "code",
   "execution_count": null,
   "metadata": {},
   "outputs": [],
   "source": [
    "# Show Figure\n",
    "plt.show()"
   ]
  },
  {
   "cell_type": "markdown",
   "metadata": {},
   "source": [
    "## Total Drivers by City Type"
   ]
  },
  {
   "cell_type": "code",
   "execution_count": 27,
   "metadata": {},
   "outputs": [
    {
     "data": {
      "image/png": "[encoded data removed]",
      "text/plain": [
       "<Figure size 432x288 with 1 Axes>"
      ]
     },
     "metadata": {},
     "output_type": "display_data"
    }
   ],
   "source": [
    "# create dataframe\n",
    "driversByCity_df = pd.DataFrame(mergedata_df.groupby(by='type')['driver_count'].sum())\n",
    "\n",
    "# create labels, wedge slices, colors, explode\n",
    "labels = ['Rural', 'Suburban', 'Urban']\n",
    "wedge_sizes = [driversByCity_df['driver_count']['Rural']/driversByCity_df['driver_count'].sum(),\\\n",
    "               driversByCity_df['driver_count']['Suburban']/driversByCity_df['driver_count'].sum(),\\\n",
    "               driversByCity_df['driver_count']['Urban']/driversByCity_df['driver_count'].sum()]\n",
    "explode = (0.25, 0.25, .1)\n",
    "\n",
    "# create and display pie chart\n",
    "fig1, ax1 = plt.subplots()\n",
    "ax1.pie(wedge_sizes, labels=labels, autopct='%1.2f%%', startangle=90, colors=colors, explode=explode)\n",
    "ax1.axis('off')\n",
    "plt.legend(loc='lower left')\n",
    "plt.title(\"Total Drivers by City Type\",{'fontname':'Arial','fontsize':14})\n",
    "plt.show()"
   ]
  },
  {
   "cell_type": "code",
   "execution_count": null,
   "metadata": {
    "scrolled": true
   },
   "outputs": [],
   "source": [
    "# Show Figure\n",
    "plt.show()"
   ]
  },
  {
   "cell_type": "code",
   "execution_count": null,
   "metadata": {},
   "outputs": [],
   "source": []
  }
 ],
 "metadata": {
  "anaconda-cloud": {},
  "kernelspec": {
   "display_name": "Python 3",
   "language": "python",
   "name": "python3"
  },
  "language_info": {
   "codemirror_mode": {
    "name": "ipython",
    "version": 3
   },
   "file_extension": ".py",
   "mimetype": "text/x-python",
   "name": "python",
   "nbconvert_exporter": "python",
   "pygments_lexer": "ipython3",
   "version": "3.6.8"
  }
 },
 "nbformat": 4,
 "nbformat_minor": 2
}
